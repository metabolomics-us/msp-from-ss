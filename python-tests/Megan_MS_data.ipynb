{
 "cells": [
  {
   "cell_type": "code",
   "execution_count": 1,
   "metadata": {},
   "outputs": [],
   "source": [
    "import pandas as pd"
   ]
  },
  {
   "cell_type": "code",
   "execution_count": 2,
   "metadata": {},
   "outputs": [],
   "source": [
    "# Read in excel spreadsheet of data\n",
    "df = pd.read_excel(\"Height_0_20198281030_QTOF LIB Run2 08082014_MSMS Hits only.xlsx\")"
   ]
  },
  {
   "cell_type": "code",
   "execution_count": 3,
   "metadata": {},
   "outputs": [],
   "source": [
    "# Because of how the spreadsheet is organized, the fourth row contains the column names we want\n",
    "cols = df.loc[3]"
   ]
  },
  {
   "cell_type": "code",
   "execution_count": 4,
   "metadata": {},
   "outputs": [],
   "source": [
    "# Remove the rows we don't need\n",
    "df = df.loc[4:]"
   ]
  },
  {
   "cell_type": "code",
   "execution_count": 5,
   "metadata": {},
   "outputs": [],
   "source": [
    "# Rename the columns to their proper names\n",
    "df.columns = cols"
   ]
  },
  {
   "cell_type": "code",
   "execution_count": 6,
   "metadata": {},
   "outputs": [],
   "source": [
    "# Extract only the columns that we need\n",
    "msp_info = df[['Average Rt(min)', 'Average Mz', 'Metabolite name', 'Adduct type', \n",
    "               'Formula', 'INCHIKEY', 'MS1 isotopic spectrum', 'MS/MS spectrum']]"
   ]
  },
  {
   "cell_type": "code",
   "execution_count": 7,
   "metadata": {
    "scrolled": true
   },
   "outputs": [],
   "source": [
    "# The rows are numbered incorrectly, so reset the index \n",
    "msp_info = msp_info.reset_index().rename_axis(None, axis=1).drop('index',axis=1)"
   ]
  },
  {
   "cell_type": "code",
   "execution_count": 8,
   "metadata": {},
   "outputs": [],
   "source": [
    "# Take a series of MS/MS values, return a series of lines w/mass and intensity\n",
    "def msms_lines(msms):\n",
    "    lines = []\n",
    "    # Separate into mass-intensity pairs\n",
    "    ms_pairs = msms.strip().split(\" \")\n",
    "    # Split pairs into there mass and intensity and append to lines\n",
    "    for pair in ms_pairs:\n",
    "        lines.append(pair.replace(\":\",\" \") + \"\\n\")\n",
    "    return lines"
   ]
  },
  {
   "cell_type": "code",
   "execution_count": 9,
   "metadata": {},
   "outputs": [],
   "source": [
    "# Write the information in a .msp file\n",
    "test_msp = open(\"test_msp.msp\", \"w\")\n",
    "lines = []\n",
    "for i in range(len(msp_info)):\n",
    "    lines = [\n",
    "        \"Name: \" + msp_info.loc[i]['Metabolite name'] + \"\\n\",\n",
    "        \"InChIKey: \" + msp_info.loc[i]['INCHIKEY'] + \"\\n\",\n",
    "        \"Precursor Type: \" + msp_info.loc[i]['Adduct type'] + \"\\n\",\n",
    "        \"Precursor Mz: \" + str(msp_info.loc[i]['Average Mz']) + \"\\n\",\n",
    "        \"Retention Time: \" + str(msp_info.loc[i]['Average Rt(min)']) + \"\\n\",\n",
    "        \"Formula: \" + msp_info.loc[i]['Formula'] + \"\\n\",\n",
    "    ]\n",
    "    ms_lines = msms_lines(msp_info.loc[i]['MS/MS spectrum'])\n",
    "    lines.append(\"Num Peaks: \" + str(len(ms_lines)) + \"\\n\")\n",
    "    test_msp.writelines(lines)\n",
    "    ms_lines.append(\"\\n\\n\\n\")\n",
    "    test_msp.writelines(ms_lines)\n",
    "test_msp.close()"
   ]
  }
 ],
 "metadata": {
  "kernelspec": {
   "display_name": "Python 3",
   "language": "python",
   "name": "python3"
  },
  "language_info": {
   "codemirror_mode": {
    "name": "ipython",
    "version": 3
   },
   "file_extension": ".py",
   "mimetype": "text/x-python",
   "name": "python",
   "nbconvert_exporter": "python",
   "pygments_lexer": "ipython3",
   "version": "3.7.3"
  }
 },
 "nbformat": 4,
 "nbformat_minor": 2
}
